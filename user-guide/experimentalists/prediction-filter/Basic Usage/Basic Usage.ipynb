{
 "cells": [
  {
   "attachments": {},
   "cell_type": "markdown",
   "metadata": {
    "collapsed": false
   },
   "source": [
    "# Basic Usage\n",
    "\n",
    "Here, we demonstrate how to filter conditions where we suspect the model to be undefined"
   ]
  },
  {
   "cell_type": "code",
   "execution_count": 1,
   "metadata": {
    "collapsed": false
   },
   "outputs": [],
   "source": [
    "import math\n",
    "\n",
    "import numpy as np\n",
    "\n",
    "from autora.experimentalist.prediction_filter import prediction_filter\n",
    "import pandas as pd"
   ]
  },
  {
   "cell_type": "markdown",
   "source": [
    "Create a model:"
   ],
   "metadata": {
    "collapsed": false
   }
  },
  {
   "cell_type": "code",
   "execution_count": 2,
   "outputs": [],
   "source": [
    "class ModelWithNans:\n",
    "    def predict(self, x):\n",
    "        try:\n",
    "            return math.sqrt((x**2 - 4))\n",
    "        except:\n",
    "            return None\n",
    "model = ModelWithNans()"
   ],
   "metadata": {
    "collapsed": false
   }
  },
  {
   "attachments": {},
   "cell_type": "markdown",
   "metadata": {},
   "source": [
    "Let's create our pool:"
   ]
  },
  {
   "cell_type": "code",
   "execution_count": 3,
   "outputs": [
    {
     "data": {
      "text/plain": "      x\n0  -5.0\n1  -4.0\n2  -3.0\n3  -2.0\n4  -1.0\n5   0.0\n6   1.0\n7   2.0\n8   3.0\n9   4.0\n10  5.0",
      "text/html": "<div>\n<style scoped>\n    .dataframe tbody tr th:only-of-type {\n        vertical-align: middle;\n    }\n\n    .dataframe tbody tr th {\n        vertical-align: top;\n    }\n\n    .dataframe thead th {\n        text-align: right;\n    }\n</style>\n<table border=\"1\" class=\"dataframe\">\n  <thead>\n    <tr style=\"text-align: right;\">\n      <th></th>\n      <th>x</th>\n    </tr>\n  </thead>\n  <tbody>\n    <tr>\n      <th>0</th>\n      <td>-5.0</td>\n    </tr>\n    <tr>\n      <th>1</th>\n      <td>-4.0</td>\n    </tr>\n    <tr>\n      <th>2</th>\n      <td>-3.0</td>\n    </tr>\n    <tr>\n      <th>3</th>\n      <td>-2.0</td>\n    </tr>\n    <tr>\n      <th>4</th>\n      <td>-1.0</td>\n    </tr>\n    <tr>\n      <th>5</th>\n      <td>0.0</td>\n    </tr>\n    <tr>\n      <th>6</th>\n      <td>1.0</td>\n    </tr>\n    <tr>\n      <th>7</th>\n      <td>2.0</td>\n    </tr>\n    <tr>\n      <th>8</th>\n      <td>3.0</td>\n    </tr>\n    <tr>\n      <th>9</th>\n      <td>4.0</td>\n    </tr>\n    <tr>\n      <th>10</th>\n      <td>5.0</td>\n    </tr>\n  </tbody>\n</table>\n</div>"
     },
     "execution_count": 3,
     "metadata": {},
     "output_type": "execute_result"
    }
   ],
   "source": [
    "pool = pd.DataFrame({'x': np.linspace(-5, 5, 11)})\n",
    "pool"
   ],
   "metadata": {
    "collapsed": false
   }
  },
  {
   "cell_type": "markdown",
   "source": [
    "Let's create our filter function. This is a function that returns True if a value should be included"
   ],
   "metadata": {
    "collapsed": false
   }
  },
  {
   "cell_type": "code",
   "execution_count": 4,
   "outputs": [],
   "source": [
    "def filter_function(x):\n",
    "    return x is not None"
   ],
   "metadata": {
    "collapsed": false
   }
  },
  {
   "cell_type": "markdown",
   "metadata": {},
   "source": [
    "Now, let's use our filter on the conditions:"
   ]
  },
  {
   "cell_type": "code",
   "execution_count": 6,
   "outputs": [
    {
     "name": "stderr",
     "output_type": "stream",
     "text": [
      "/var/folders/1b/73431t791q1_7tb99v1jc9ww0000gp/T/ipykernel_2288/1109617591.py:4: DeprecationWarning: Conversion of an array with ndim > 0 to a scalar is deprecated, and will error in future. Ensure you extract a single element from your array before performing this operation. (Deprecated NumPy 1.25.)\n",
      "  return math.sqrt((x**2 - 4))\n"
     ]
    },
    {
     "data": {
      "text/plain": "     x\n0 -5.0\n1 -4.0\n2 -3.0\n3 -2.0\n4  2.0\n5  3.0\n6  4.0\n7  5.0",
      "text/html": "<div>\n<style scoped>\n    .dataframe tbody tr th:only-of-type {\n        vertical-align: middle;\n    }\n\n    .dataframe tbody tr th {\n        vertical-align: top;\n    }\n\n    .dataframe thead th {\n        text-align: right;\n    }\n</style>\n<table border=\"1\" class=\"dataframe\">\n  <thead>\n    <tr style=\"text-align: right;\">\n      <th></th>\n      <th>x</th>\n    </tr>\n  </thead>\n  <tbody>\n    <tr>\n      <th>0</th>\n      <td>-5.0</td>\n    </tr>\n    <tr>\n      <th>1</th>\n      <td>-4.0</td>\n    </tr>\n    <tr>\n      <th>2</th>\n      <td>-3.0</td>\n    </tr>\n    <tr>\n      <th>3</th>\n      <td>-2.0</td>\n    </tr>\n    <tr>\n      <th>4</th>\n      <td>2.0</td>\n    </tr>\n    <tr>\n      <th>5</th>\n      <td>3.0</td>\n    </tr>\n    <tr>\n      <th>6</th>\n      <td>4.0</td>\n    </tr>\n    <tr>\n      <th>7</th>\n      <td>5.0</td>\n    </tr>\n  </tbody>\n</table>\n</div>"
     },
     "execution_count": 6,
     "metadata": {},
     "output_type": "execute_result"
    }
   ],
   "source": [
    "filtered_conditions = prediction_filter(pool, model, filter_function)\n",
    "filtered_conditions"
   ],
   "metadata": {
    "collapsed": false
   }
  },
  {
   "cell_type": "code",
   "execution_count": null,
   "outputs": [],
   "source": [],
   "metadata": {
    "collapsed": false
   }
  }
 ],
 "metadata": {
  "kernelspec": {
   "display_name": "Python 3",
   "language": "python",
   "name": "python3"
  },
  "language_info": {
   "codemirror_mode": {
    "name": "ipython",
    "version": 2
   },
   "file_extension": ".py",
   "mimetype": "text/x-python",
   "name": "python",
   "nbconvert_exporter": "python",
   "pygments_lexer": "ipython2",
   "version": "2.7.6"
  }
 },
 "nbformat": 4,
 "nbformat_minor": 0
}
